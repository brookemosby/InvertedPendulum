{
 "cells": [
  {
   "cell_type": "code",
   "execution_count": null,
   "metadata": {
    "collapsed": true
   },
   "outputs": [],
   "source": [
    "def cartpole(environment, init_state, tol=1e-2, disp=False, N = 300):\n",
    "    env = environment\n",
    "    obs = init_state\n",
    "    \n",
    "    control = []\n",
    "    \n",
    "    '''\n",
    "    This function will run the cartpole problem using the environment and initial conditions provided.\n",
    "    Do NOT call env.reset().\n",
    "    Run whatever system you desire to make sure the state values fall under the tolerance level.\n",
    "    Convergence is considered reached once numpy.linalg.norm(obs[1:]) < tol, where we ignore the x position of the cart.\n",
    "    You will need to return the sequence of controls that brings the cartpole system into vertical stability.\n",
    "    Make sure to quit after N iterations, or convergence is reached, whichever occurs first.\n",
    "    Remember you are being graded against other teams' step counts, so you want to end the system updates as soon as possible.\n",
    "    \n",
    "    Parameters:\n",
    "        environment (CartPole object): The cartpole environment as described in gym and acme_gym.\n",
    "        init_state (tuple): The initial state with [x, x', θ, θ'].\n",
    "        tol (float): The tolerance to be reached before the cartpole problem is considered converged.\n",
    "        disp (bool): If True, render the image.\n",
    "        N (int): The max number of iterations.\n",
    "    \n",
    "    Returns:\n",
    "        (list): A list of control values. These will be tested on the grader's end for convergence and time step assessment.\n",
    "    \n",
    "    '''\n",
    "    \n",
    "    env.close()\n",
    "    return control"
   ]
  },
  {
   "cell_type": "code",
   "execution_count": null,
   "metadata": {},
   "outputs": [],
   "source": [
    "import gym, acme_gym\n",
    "import numpy as np\n",
    "import copy\n",
    "from scipy import linalg\n",
    "from tqdm import tqdm\n",
    "\n",
    "tol = 1e-2\n",
    "total = 200\n",
    "\n",
    "render = True\n",
    "\n",
    "num_steps = []\n",
    "\n",
    "for i in tqdm(range(total)):\n",
    "    env = gym.make(\"CartPoleContinuous-v0\")\n",
    "    observation = env.reset()\n",
    "    env_copy = copy.deepcopy(env)\n",
    "    \n",
    "    # This is students' code\n",
    "    control = cartpole(env_copy, observation, tol, render)\n",
    "    \n",
    "    for u in control:\n",
    "        obs, reward, state, info = env.step(np.array([u]))\n",
    "        \n",
    "        if render:\n",
    "            env.render()\n",
    "    \n",
    "    render = False\n",
    "    \n",
    "    if np.linalg.norm(obs[1:]) > tol:\n",
    "        print(\"unsuccessful\")\n",
    "    \n",
    "    num_steps.append(len(control))\n",
    "    env.close()\n",
    "\n",
    "print(\"Average number of steps after {} iterations: {}\".format(total, np.mean(num_steps)))"
   ]
  },
  {
   "cell_type": "code",
   "execution_count": null,
   "metadata": {
    "collapsed": true
   },
   "outputs": [],
   "source": []
  }
 ],
 "metadata": {
  "kernelspec": {
   "display_name": "Python 3",
   "language": "python",
   "name": "python3"
  },
  "language_info": {
   "codemirror_mode": {
    "name": "ipython",
    "version": 3
   },
   "file_extension": ".py",
   "mimetype": "text/x-python",
   "name": "python",
   "nbconvert_exporter": "python",
   "pygments_lexer": "ipython3",
   "version": "3.6.4"
  }
 },
 "nbformat": 4,
 "nbformat_minor": 2
}
