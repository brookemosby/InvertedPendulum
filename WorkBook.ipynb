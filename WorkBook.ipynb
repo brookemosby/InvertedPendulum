{
 "cells": [
  {
   "cell_type": "code",
   "execution_count": 171,
   "metadata": {},
   "outputs": [],
   "source": [
    "import numpy as np\n",
    "from scipy.optimize import root\n",
    "from scipy.integrate import odeint\n",
    "from scipy.linalg import solve_continuous_are as scare\n",
    "import gym, acme_gym"
   ]
  },
  {
   "cell_type": "code",
   "execution_count": 172,
   "metadata": {},
   "outputs": [],
   "source": [
    "#These are the functions from Brooke's Inverted Pendulum lab\n",
    "def linearized_init(M, m, l, q1, q2, q3, q4, r):\n",
    "    '''\n",
    "    Parameters:\n",
    "    ----------\n",
    "    M, m: floats\n",
    "    masses of the rickshaw and the present\n",
    "    l   : float\n",
    "    length of the rod\n",
    "    q1, q2, q3, q4, r : floats\n",
    "    relative weights of the position and velocity of the rickshaw, \n",
    "    the angular displacement theta and the change in theta, and the control\n",
    "    Return\n",
    "    -------\n",
    "    A : ndarray of shape (4,4)\n",
    "    B : ndarray of shape (4,1)\n",
    "    Q : ndarray of shape (4,4)\n",
    "    R : ndarray of shape (1,1)\n",
    "    '''\n",
    "    g = 9.8\n",
    "    A = np.zeros((4,4))\n",
    "    A[0,1] = 1\n",
    "    A[1,2] = m*g/M\n",
    "    A[2,3] = 1\n",
    "    A[3,2] = g/(M*l)*(M+m)\n",
    "    B = np.zeros((4,1))\n",
    "    B[1] = 1/M\n",
    "    B[3] = 1/(M*l)\n",
    "    Q = np.diag([q1, q2, q3, q4])\n",
    "    R = np.array([[r]])\n",
    "    return A, B, Q, R\n",
    "\n",
    "def find_P(A, B, Q, R):\n",
    "    '''\n",
    "    Parameters:\n",
    "    ----------\n",
    "    A, Q    : ndarrays of shape (4,4)\n",
    "    B       : ndarray of shape (4,1)\n",
    "    R       : ndarray of shape (1,1)\n",
    "    Returns\n",
    "    -------\n",
    "    P       : the matrix solution of the Riccati equation\n",
    "    '''\n",
    "    def fun(P):\n",
    "        P = P.reshape((4,4))\n",
    "        root = P@A+A.T@P+Q-1/R[0]*(P@B@B.T@P)\n",
    "        return root.reshape(16)\n",
    "    P0 = np.ones(16)\n",
    "    P = root(fun,P0).x.reshape((4,4))\n",
    "    return P\n",
    "def rickshaw(tv, X0, A, B, Q, R, P):\n",
    "    '''\n",
    "    Parameters:\n",
    "    ----------\n",
    "    tv  : ndarray of time values, with shape (n+1,)\n",
    "    X0  : Initial conditions on state variables\n",
    "    A, Q: ndarrays of shape (4,4)\n",
    "    B   : ndarray of shape (4,1)\n",
    "    R   : ndarray of shape (1,1)\n",
    "    P   : ndarray of shape (4,4)\n",
    "    Returns\n",
    "    -------\n",
    "    Z : ndarray of shape (n+1,4), the state vector at each time\n",
    "    U : ndarray of shape (n+1,), the control values\n",
    "    '''\n",
    "    \n",
    "    func = lambda z,t: (A - 1/R[0]*B@B.T@P)@z.T\n",
    "    Z = odeint(func, X0, tv)\n",
    "    BP = B.T@P\n",
    "    U = -1/R[0]*(BP)@Z.T\n",
    "    return Z,U  "
   ]
  },
  {
   "cell_type": "code",
   "execution_count": 173,
   "metadata": {
    "scrolled": true
   },
   "outputs": [],
   "source": [
    "env.close()#always close previous environment before opening new one\n",
    "#This is the new function that will take in information for inverted \n",
    "#pendulum problem, and will find optimal solution and display on\n",
    "#environment given\n",
    "def stabilize(M, m, l, q1, q2, q3, q4, r, X0, tf, step):\n",
    "    A, B, Q, R = linearized_init(M, m, l, q1, q2, q3, q4, r)\n",
    "    P = scare(A, B, Q, R)\n",
    "    tv = np.linspace(0,tf,step)\n",
    "    Z, U = rickshaw(tv,X0,A, B, Q, R, P)\n",
    "    #Z is state vector\n",
    "    #U is control values\n",
    "    return Z,U\n",
    "step = 300\n",
    "env = gym.make(\"CartPoleContinuous-v0\")\n",
    "obs = env.reset()\n",
    "x0 = obs\n",
    "q1, q2, q3, q4 = 1., 1., 5., 2\n",
    "env.render()\n",
    "tf = .02*step\n",
    "\n",
    "r = 10. # Weight on the control, how do we know what it should be?\n",
    "M, m, l = 1, .1, 1\n",
    "Z, U = stabilize(M, m, l, q1, q2, q3, q4, r, x0, tf, step)\n",
    "U = U.T\n",
    "\n",
    "for i in range(step):\n",
    "    #get a new obs every interation... are we supposed to include that in new calcs?\n",
    "    obs, reward, state, info = env.step(np.array(U[0]))\n",
    "    env.render()\n",
    "                                        \n",
    "    # Feedback\n",
    "    x0 = np.array([obs[0],obs[1],-obs[2],-obs[3]])\n",
    "    Z, U = stabilize(M, m, l, q1, q2, q3, q4, r, x0, tf, step)\n",
    "    U = U.T"
   ]
  },
  {
   "cell_type": "code",
   "execution_count": 16,
   "metadata": {
    "collapsed": true
   },
   "outputs": [],
   "source": [
    "env.close()"
   ]
  },
  {
   "cell_type": "code",
   "execution_count": 174,
   "metadata": {},
   "outputs": [],
   "source": [
    "def easy_run(x0, q1, q2, q3, q4, r, env, step = 200):\n",
    "    states = []\n",
    "    tf = .02*step\n",
    "    M, m, l = 1, .1, 1\n",
    "    for i in range(step):\n",
    "        Z, U = stabilize(M, m, l, q1, q2, q3, q4, r, x0, tf, step)\n",
    "        U = U.T\n",
    "        #get a new obs every interation... are we supposed to include that in new calcs?\n",
    "        obs, reward, state, info = env.step(np.array(U[0]))\n",
    "        states.append(state)\n",
    "        # Feedback\n",
    "        x0 = np.array([obs[0],obs[1],-obs[2],-obs[3]])\n",
    "        if np.sum(np.array(states[-5:]).astype(int)) > 4:\n",
    "            break\n",
    "    return len(states)"
   ]
  },
  {
   "cell_type": "code",
   "execution_count": null,
   "metadata": {},
   "outputs": [],
   "source": [
    "env1 = gym.make(\"CartPoleContinuous-v0\")\n",
    "env2 = gym.make(\"CartPoleContinuous-v0\")\n",
    "env3 = gym.make(\"CartPoleContinuous-v0\")\n",
    "env4 = gym.make(\"CartPoleContinuous-v0\")\n",
    "env5 = gym.make(\"CartPoleContinuous-v0\")\n",
    "diff_envs = [env1, env2, env3, env4, env5]\n",
    "best_iters = np.inf\n",
    "best_vals = None\n",
    "for q1 in np.linspace(0,5,11):\n",
    "    for q2 in np.linspace(.5,5,10):\n",
    "        for q3 in np.linspace(.5,5,10):\n",
    "            for q4 in np.linspace(.5,5,10):\n",
    "                for r in np.linspace(.5,5,10):\n",
    "                    sum_iters = 0\n",
    "                    for env in diff_envs:\n",
    "                        sum_iters += easy_run(env.reset(), q1, q2, q3, q4, r, env)\n",
    "                    if sum_iters < best_iters:\n",
    "                        best_iters = sum_iters\n",
    "                        best_vals = [q1, q2, q3, q4, r]"
   ]
  },
  {
   "cell_type": "code",
   "execution_count": null,
   "metadata": {},
   "outputs": [],
   "source": [
    "print(best_iters,'\\n',best_vals)"
   ]
  },
  {
   "cell_type": "code",
   "execution_count": null,
   "metadata": {},
   "outputs": [],
   "source": []
  }
 ],
 "metadata": {
  "anaconda-cloud": {},
  "kernelspec": {
   "display_name": "Python 3",
   "language": "python",
   "name": "python3"
  },
  "language_info": {
   "codemirror_mode": {
    "name": "ipython",
    "version": 3
   },
   "file_extension": ".py",
   "mimetype": "text/x-python",
   "name": "python",
   "nbconvert_exporter": "python",
   "pygments_lexer": "ipython3",
   "version": "3.6.4"
  }
 },
 "nbformat": 4,
 "nbformat_minor": 2
}
